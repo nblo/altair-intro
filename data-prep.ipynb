{
 "cells": [
  {
   "cell_type": "code",
   "execution_count": 1,
   "id": "opened-journal",
   "metadata": {},
   "outputs": [],
   "source": [
    "import pandas as pd"
   ]
  },
  {
   "cell_type": "markdown",
   "id": "present-pilot",
   "metadata": {},
   "source": [
    "# Prep Car dataset"
   ]
  },
  {
   "cell_type": "code",
   "execution_count": 2,
   "id": "russian-selling",
   "metadata": {},
   "outputs": [],
   "source": [
    "relevant_cols = ['Model',\n",
    " 'Gas Mileage',\n",
    " 'Engine',\n",
    " 'EPA Class',\n",
    " 'Style Name',\n",
    " 'Drivetrain', \n",
    " 'Displacement',\n",
    "'Hybrid/Electric Components Note',\n",
    " 'Year',\n",
    " 'Price',\n",
    " 'Torque (Nm)',\n",
    " 'Max Torque (rpm)',\n",
    " 'Power (kW)',\n",
    " 'Max Power (rpm)']\n",
    "\n",
    "df_cars = pd.read_parquet(\"./data/car_data_raw.parquet\")[relevant_cols]\n",
    "\n",
    "df_cars[\"Cylinders\"] = df_cars[\"Engine\"].str.extract(\"[V,I]-(\\d{1,2}).*\").astype(float).fillna(0)\n",
    "df_cars[\"Displacement (liter)\"] = df_cars[\"Displacement\"].str.extract(\"(\\d{1,2}.\\d+)\\s+L\").astype(float)\n",
    "df_cars[\"Fuel_efficiency\"] = 235.21/df_cars[\"Gas Mileage\"].str.lower().str.strip().str.extract(\"(\\d+) mpg city\\/(\\d+) mpg hwy\").astype(float).mean(axis=1)\n",
    "df_cars[\"Torque (Nm)\"] = df_cars[\"Torque (Nm)\"].astype(float)\n",
    "df_cars[\"Power (kW)\"] = df_cars[\"Power (kW)\"].astype(float)\n",
    "df_cars = df_cars[df_cars[\"Torque (Nm)\"].rank(pct=True) < 0.99].dropna(subset=[\"Cylinders\"])\n",
    "df_cars[\"Cylinders\"] = df_cars[\"Cylinders\"].astype(int)\n",
    "df_cars[\"has_turbo\"] = df_cars[\"Engine\"].str.lower().str.contains(\"turbo\")\n",
    "df_cars[\"has_supercharger\"] = df_cars[\"Engine\"].str.lower().str.contains(\"supercharger\")\n",
    "df_cars[\"forced_induction\"] = df_cars[\"has_turbo\"] | df_cars[\"has_supercharger\"]\n",
    "df_cars[\"Drivetrain\"] = df_cars[\"Drivetrain\"].str.strip().str.lower().str.replace(\"-\", \" \").str.replace(\"4\", \"four\")\n",
    "df_cars[\"is_diesel\"] = df_cars.Engine.str.contains(\"Diesel\")\n",
    "df_cars = df_cars[df_cars[\"Drivetrain\"].isin([\"front wheel drive\", \"rear wheel drive\", \"all wheel drive\", \"four wheel drive\"])]\n"
   ]
  },
  {
   "cell_type": "code",
   "execution_count": 3,
   "id": "central-hometown",
   "metadata": {},
   "outputs": [],
   "source": [
    "df_cars.to_parquet(\"./data/car_data_prepd.parquet\")"
   ]
  },
  {
   "cell_type": "markdown",
   "id": "fossil-final",
   "metadata": {},
   "source": [
    "# Prep Vacc dataset"
   ]
  },
  {
   "cell_type": "code",
   "execution_count": 4,
   "id": "unusual-payroll",
   "metadata": {},
   "outputs": [],
   "source": [
    "df_vacc_del = pd.read_csv(\"data/germany_deliveries_timeseries_v2.tsv\", \n",
    "                       sep=\"\\t\",\n",
    "                       parse_dates=[0], \n",
    "                       header=0,\n",
    "                       names=[\"date\", \"type_vacc\", \"region\", \"amount\"]).set_index(\"date\")\n",
    "df_vacc_del = df_vacc_del[~df_vacc_del[\"type_vacc\"].str.contains(\"BUND\")]\n",
    "df_vacc_del[\"date\"] = df_vacc_del.index"
   ]
  },
  {
   "cell_type": "code",
   "execution_count": 5,
   "id": "ordered-vehicle",
   "metadata": {},
   "outputs": [],
   "source": [
    "df_vacc_del[\"week_year\"] = df_vacc_del[\"date\"].dt.isocalendar().year.astype(str) + \"_\" + df_vacc_del[\"date\"].dt.isocalendar().week.astype(str).str.pad(2,fillchar='0')\n",
    "df_vacc_del = df_vacc_del.groupby([\"region\", \"type_vacc\", \"week_year\"])[[\"amount\"]].sum().reset_index(drop=False)\n",
    "df_vacc_del.to_parquet(\"./data/vaccine_data_prepd.parquet\")"
   ]
  }
 ],
 "metadata": {
  "kernelspec": {
   "display_name": "Python 3 (ipykernel)",
   "language": "python",
   "name": "python3"
  },
  "language_info": {
   "codemirror_mode": {
    "name": "ipython",
    "version": 3
   },
   "file_extension": ".py",
   "mimetype": "text/x-python",
   "name": "python",
   "nbconvert_exporter": "python",
   "pygments_lexer": "ipython3",
   "version": "3.9.9"
  }
 },
 "nbformat": 4,
 "nbformat_minor": 5
}
